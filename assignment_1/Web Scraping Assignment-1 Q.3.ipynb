{
 "cells": [
  {
   "cell_type": "markdown",
   "id": "44ea9fa2",
   "metadata": {},
   "source": [
    " ### 3) Write a python program to display IMDB’s Top rated 100 Indian movies’ data (i.e. name, rating, year of release) and make data frame."
   ]
  },
  {
   "cell_type": "code",
   "execution_count": 1,
   "id": "14dc2e29",
   "metadata": {},
   "outputs": [],
   "source": [
    "from bs4 import BeautifulSoup\n",
    "import requests\n",
    "import pandas as pd"
   ]
  },
  {
   "cell_type": "code",
   "execution_count": 2,
   "id": "7e06f15d",
   "metadata": {},
   "outputs": [],
   "source": [
    "imdb = requests.get(\"https://www.imdb.com/india/top-rated-indian-movies/\")"
   ]
  },
  {
   "cell_type": "code",
   "execution_count": 3,
   "id": "a3e894f1",
   "metadata": {},
   "outputs": [
    {
     "data": {
      "text/plain": [
       "<Response [200]>"
      ]
     },
     "execution_count": 3,
     "metadata": {},
     "output_type": "execute_result"
    }
   ],
   "source": [
    "imdb"
   ]
  },
  {
   "cell_type": "code",
   "execution_count": 4,
   "id": "5bfda6b3",
   "metadata": {},
   "outputs": [],
   "source": [
    "soup = BeautifulSoup(imdb.content)"
   ]
  },
  {
   "cell_type": "code",
   "execution_count": 5,
   "id": "53eb7366",
   "metadata": {},
   "outputs": [
    {
     "name": "stdout",
     "output_type": "stream",
     "text": [
      "['Kantara', 'Ramayana: The Legend of Prince Rama', 'Rocketry: The Nambi Effect', 'Nayakan', 'Anbe Sivam', 'Golmaal', '777 Charlie', 'Jai Bhim', 'Pariyerum Perumal', '3 Idiots', 'Apur Sansar', 'Manichitrathazhu', 'Black Friday', 'Kumbalangi Nights', 'Soorarai Pottru', '#Home', 'Taare Zameen Par', 'C/o Kancharapalem', 'Kireedam', 'Dangal', 'Kaithi', 'Jersey', '96', 'Asuran', 'Thevar Magan', 'Visaaranai', 'Natsamrat', 'Drishyam 2', 'Thalapathi', 'Pather Panchali', 'Sarpatta Parambarai', 'Jaane Bhi Do Yaaro', 'Thani Oruvan', 'Sardar Udham', 'Aparajito', 'Drishyam', 'Vada Chennai', 'Khosla Ka Ghosla!', 'Sita Ramam', 'Ratsasan', 'Chupke Chupke', 'Anniyan', 'Peranbu', 'Mahanati', 'Satya', 'Gangs of Wasseypur', 'Premam', 'Bangalore Days', 'Agent Sai Srinivasa Athreya', 'Super Deluxe', 'Devasuram', 'Drishyam', 'Bhaag Milkha Bhaag', 'Vikram', 'Vikram Vedha', 'Andhadhun', 'Guide', 'Tumbbad', 'Aruvi', 'Kannathil Muthamittal', 'Chithram', 'Zindagi Na Milegi Dobara', 'Shahid', 'Sairat', 'Iruvar', 'Paan Singh Tomar', 'Chhichhore', 'Swades: We, the People', 'Pyaasa', 'Chak De! India', 'Mudhalvan', 'Munna Bhai M.B.B.S.', 'Black', 'Spadikam', 'Uri: The Surgical Strike', 'Jo Jeeta Wohi Sikandar', 'Pudhu Pettai', 'Dhuruvangal Pathinaaru', 'Papanasam', 'Lagaan: Once Upon a Time in India', 'Queen', 'Article 15', 'Talvar', 'Hera Pheri', 'Mandela', 'PK', 'Soodhu Kavvum', 'OMG: Oh My God!', 'Sarfarosh', 'Sholay', 'Udaan', 'Kaakkaa Muttai', 'Jigarthanda', 'Barfi!', 'The Legend of Bhagat Singh', 'Ustad Hotel', 'Theeran Adhigaaram Ondru', 'Rang De Basanti', 'Baahubali 2: The Conclusion', 'Angoor', 'Kahaani', 'Masaan', 'A Wednesday', 'Virumandi', 'Dil Chahta Hai', 'Baasha', 'Maheshinte Prathikaaram', 'Iqbal', 'Shershaah', 'Lage Raho Munna Bhai', 'Jana Gana Mana', 'Roja', 'Pink', 'Anand', 'Pithamagan', 'Nil Battey Sannata', 'Kaun Pravin Tambe?', 'Lucia', 'Charulata', 'Bajrangi Bhaijaan', 'Omkara', 'Section 375', 'Oru Vadakkan Veeragatha', 'Alai Payuthey', 'Bommarillu', 'Bombay', 'K.G.F: Chapter 1', 'Indian', 'Rangasthalam', 'Haider', 'Dilwale Dulhania Le Jayenge', 'The Great Indian Kitchen', 'Mughal-E-Azam', 'Andaz Apna Apna', 'K.G.F: Chapter 2', 'Athadu', 'Maqbool', 'Special Chabbis', 'Maanaadu', 'Vaaranam Aayiram', 'Gulaal', 'Padayappa', 'Thadam', 'Android Kunjappan Version 5.25', 'Ulidavaru Kandanthe', 'Pelli Choopulu', 'Deewaar', 'Company', 'Vaastav: The Reality', 'Ugly', 'Badhaai ho', 'Gully Boy', 'Naduvula Konjam Pakkatha Kaanom', 'Padosan', 'Evaru', 'Kshanam', 'Aadukalam', 'Dev.D', 'My Name Is Khan', 'Maanagaram', 'Nayattu', 'Thondimuthalum Dhriksakshiyum', 'Kal Ho Naa Ho', 'Pranchiyettan and the Saint', 'Major', 'Baishe Srabon', 'Jab We Met', 'Take Off', 'Manjhi: The Mountain Man', 'Ship of Theseus', 'Mukkabaaz', 'Border', 'Ayyappanum Koshiyum', 'Dil Bechara', 'Super 30', 'Garuda Gamana Vrishabha Vahana', 'Vedam', 'Charlie', 'Deiva Thirumagal', 'Arjun Reddy', 'Bãhubali: The Beginning', 'Salaam Bombay!', 'Karnan', 'Padman', 'Ankhon Dekhi', 'Baby', 'M.S. Dhoni: The Untold Story', 'Jalsaghar', 'Vinnaithaandi Varuvaayaa', 'RRR (Rise Roar Revolt)', 'Pizza', 'The Tashkent Files', 'Kirik Party', 'Malik', 'Lakshya', 'English Vinglish', 'Hindi Medium', 'Johnny Gaddaar', 'Hey Ram', 'Dor', 'Airlift', 'Memories', 'Joseph', 'Hridayam', 'Gangaajal', 'Kaakha..Kaakha: The Police', 'Anjaam Pathiraa', 'Vettaiyaadu Vilaiyaadu', 'The Lunchbox', 'Okkadu', 'Ponniyin Selvan: I', 'Ab Tak Chhappan', 'Pokiri', 'Mumbai Police', 'Thuppakki', 'RangiTaranga', 'Unnaipol Oruvan', 'Manam', 'Ghilli', 'Angamaly Diaries', 'Mother India', 'Vicky Donor', 'Oopiri', 'Veer-Zaara', 'Secret Superstar', 'Kaththi', 'Mr. India', 'Rock On!!', 'Nayak: The Real Hero', 'Stanley Ka Dabba', 'Mimi', 'Udta Punjab', 'Sonchiriya', 'Badla', 'Aayirathil Oruvan', 'Happy Days', 'Dasvidaniya', 'Oru CBI Diary Kurippu', 'Raazi', 'Thulladha Manamum Thullum', 'Minnal Murali', 'Kai po che!', 'Dia', 'Poove Unakkaga', 'Goodachari', 'Joji', 'Don', 'Aligarh', 'Ko', 'Guru']\n"
     ]
    }
   ],
   "source": [
    "names =soup.find_all('td', class_=\"titleColumn\")\n",
    "movie_name = []\n",
    "for i in names:\n",
    "    title = i.find('a').text\n",
    "    movie_name.append(title)\n",
    "    \n",
    "print(movie_name)"
   ]
  },
  {
   "cell_type": "code",
   "execution_count": 6,
   "id": "410a676d",
   "metadata": {},
   "outputs": [],
   "source": [
    "movie_name = movie_name[:100]"
   ]
  },
  {
   "cell_type": "code",
   "execution_count": 7,
   "id": "8d44524a",
   "metadata": {},
   "outputs": [
    {
     "name": "stdout",
     "output_type": "stream",
     "text": [
      "['8.6', '8.5', '8.4', '8.4', '8.4', '8.4', '8.4', '8.4', '8.4', '8.4', '8.3', '8.3', '8.3', '8.3', '8.3', '8.3', '8.3', '8.3', '8.3', '8.3', '8.3', '8.3', '8.2', '8.2', '8.2', '8.2', '8.2', '8.2', '8.2', '8.2', '8.2', '8.2', '8.2', '8.2', '8.2', '8.2', '8.2', '8.2', '8.2', '8.1', '8.1', '8.1', '8.1', '8.1', '8.1', '8.1', '8.1', '8.1', '8.1', '8.1', '8.1', '8.1', '8.1', '8.1', '8.1', '8.1', '8.1', '8.1', '8.1', '8.1', '8.1', '8.1', '8.1', '8.1', '8.1', '8.1', '8.1', '8.1', '8.1', '8.1', '8.1', '8.1', '8.1', '8.1', '8.1', '8.1', '8.1', '8.1', '8.1', '8.0', '8.0', '8.0', '8.0', '8.0', '8.0', '8.0', '8.0', '8.0', '8.0', '8.0', '8.0', '8.0', '8.0', '8.0', '8.0', '8.0', '8.0', '8.0', '8.0', '8.0', '8.0', '8.0', '8.0', '8.0', '8.0', '8.0', '8.0', '8.0', '8.0', '8.0', '8.0', '8.0', '8.0', '8.0', '8.0', '8.0', '8.0', '8.0', '8.0', '8.0', '8.0', '8.0', '8.0', '8.0', '8.0', '8.0', '8.0', '7.9', '7.9', '7.9', '7.9', '7.9', '7.9', '7.9', '7.9', '7.9', '7.9', '7.9', '7.9', '7.9', '7.9', '7.9', '7.9', '7.9', '7.9', '7.9', '7.9', '7.9', '7.9', '7.9', '7.9', '7.9', '7.9', '7.9', '7.9', '7.9', '7.9', '7.9', '7.9', '7.8', '7.8', '7.8', '7.8', '7.8', '7.8', '7.8', '7.8', '7.8', '7.8', '7.8', '7.8', '7.8', '7.8', '7.8', '7.8', '7.8', '7.8', '7.8', '7.8', '7.8', '7.8', '7.8', '7.8', '7.8', '7.8', '7.8', '7.8', '7.8', '7.8', '7.8', '7.8', '7.8', '7.8', '7.8', '7.8', '7.8', '7.8', '7.8', '7.8', '7.8', '7.8', '7.8', '7.8', '7.8', '7.7', '7.7', '7.7', '7.7', '7.7', '7.7', '7.7', '7.7', '7.7', '7.7', '7.7', '7.7', '7.7', '7.7', '7.7', '7.7', '7.7', '7.7', '7.7', '7.7', '7.7', '7.7', '7.7', '7.7', '7.7', '7.7', '7.7', '7.7', '7.7', '7.7', '7.7', '7.7', '7.7', '7.7', '7.7', '7.7', '7.7', '7.7', '7.7', '7.7', '7.7', '7.6', '7.6', '7.6', '7.6', '7.6']\n"
     ]
    }
   ],
   "source": [
    "rating = []\n",
    "\n",
    "for i in soup.find_all(\"td\",class_=\"ratingColumn imdbRating\"):\n",
    "    rating.append(i.text.replace('\\n',''))\n",
    "    \n",
    "print(rating)"
   ]
  },
  {
   "cell_type": "code",
   "execution_count": 8,
   "id": "b43fb284",
   "metadata": {},
   "outputs": [],
   "source": [
    "rating = rating[:100]"
   ]
  },
  {
   "cell_type": "code",
   "execution_count": 26,
   "id": "be5f35b9",
   "metadata": {},
   "outputs": [
    {
     "name": "stdout",
     "output_type": "stream",
     "text": [
      "['2022', '1993', '2022', '1987', '2003', '1979', '2022', '2021', '2018', '2009', '1959', '1993', '2004', '2019', '2020', '2021', '2007', '2018', '1989', '2016', '2019', '2019', '2018', '2019', '1992', '2015', '2016', '2021', '1991', '1955', '2021', '1983', '2015', '2021', '1956', '2013', '2018', '2006', '2022', '2018', '1975', '2005', '2018', '2018', '1998', '2012', '2015', '2014', '2019', '2019', '1993', '2015', '2013', '2022', '2017', '2018', '1965', '2018', '2016', '2002', '1988', '2011', '2012', '2016', '1997', '2012', '2019', '2004', '1957', '2007', '1999', '2003', '2005', '1995', '2019', '1992', '2006', '2016', '2015', '2001', '2013', '2019', '2015', '2000', '2021', '2014', '2013', '2012', '1999', '1975', '2010', '2014', '2014', '2012', '2002', '2012', '2017', '2006', '2017', '1982', '2012', '2015', '2008', '2004', '2001', '1995', '2016', '2005', '2021', '2006', '2022', '1992', '2016', '1971', '2003', '2015', '2022', '2013', '1964', '2015', '2006', '2019', '1989', '2000', '2006', '1995', '2018', '1996', '2018', '2014', '1995', '2021', '1960', '1994', '2022', '2005', '2003', '2013', '2021', '2008', '2009', '1999', '2019', '2019', '2014', '2016', '1975', '2002', '1999', '2013', '2018', '2019', '2012', '1968', '2019', '2016', '2011', '2009', '2010', '2017', '2021', '2017', '2003', '2010', '2022', '2011', '2007', '2017', '2015', '2012', '2017', '1997', '2020', '2020', '2019', '2021', '2010', '2015', '2011', '2017', '2015', '1988', '2021', '2018', '2013', '2015', '2016', '1958', '2010', '2022', '2012', '2019', '2016', '2021', '2004', '2012', '2017', '2007', '2000', '2006', '2016', '2013', '2018', '2022', '2003', '2003', '2020', '2006', '2013', '2003', '2022', '2004', '2006', '2013', '2012', '2015', '2009', '2014', '2004', '2017', '1957', '2012', '2016', '2004', '2017', '2014', '1987', '2008', '2001', '2011', '2021', '2016', '2019', '2019', '2010', '2007', '2008', '1988', '2018', '1999', '2021', '2013', '2020', '1996', '2018', '2021', '1978', '2015', '2011', '2007']\n"
     ]
    }
   ],
   "source": [
    "yrs =soup.find_all('td', class_=\"secondaryInfo\")\n",
    "r_yrs= []\n",
    "for i in names:\n",
    "    title = i.find('span').text.replace(\"(\",\"\").replace(\")\",\"\")\n",
    "    r_yrs.append(title)\n",
    "    \n",
    "print(r_yrs)"
   ]
  },
  {
   "cell_type": "code",
   "execution_count": 27,
   "id": "30481321",
   "metadata": {},
   "outputs": [],
   "source": [
    "r_yrs = r_yrs[:100]"
   ]
  },
  {
   "cell_type": "code",
   "execution_count": 28,
   "id": "fec5e3ee",
   "metadata": {},
   "outputs": [
    {
     "data": {
      "text/plain": [
       "['2022',\n",
       " '1993',\n",
       " '2022',\n",
       " '1987',\n",
       " '2003',\n",
       " '1979',\n",
       " '2022',\n",
       " '2021',\n",
       " '2018',\n",
       " '2009',\n",
       " '1959',\n",
       " '1993',\n",
       " '2004',\n",
       " '2019',\n",
       " '2020',\n",
       " '2021',\n",
       " '2007',\n",
       " '2018',\n",
       " '1989',\n",
       " '2016',\n",
       " '2019',\n",
       " '2019',\n",
       " '2018',\n",
       " '2019',\n",
       " '1992',\n",
       " '2015',\n",
       " '2016',\n",
       " '2021',\n",
       " '1991',\n",
       " '1955',\n",
       " '2021',\n",
       " '1983',\n",
       " '2015',\n",
       " '2021',\n",
       " '1956',\n",
       " '2013',\n",
       " '2018',\n",
       " '2006',\n",
       " '2022',\n",
       " '2018',\n",
       " '1975',\n",
       " '2005',\n",
       " '2018',\n",
       " '2018',\n",
       " '1998',\n",
       " '2012',\n",
       " '2015',\n",
       " '2014',\n",
       " '2019',\n",
       " '2019',\n",
       " '1993',\n",
       " '2015',\n",
       " '2013',\n",
       " '2022',\n",
       " '2017',\n",
       " '2018',\n",
       " '1965',\n",
       " '2018',\n",
       " '2016',\n",
       " '2002',\n",
       " '1988',\n",
       " '2011',\n",
       " '2012',\n",
       " '2016',\n",
       " '1997',\n",
       " '2012',\n",
       " '2019',\n",
       " '2004',\n",
       " '1957',\n",
       " '2007',\n",
       " '1999',\n",
       " '2003',\n",
       " '2005',\n",
       " '1995',\n",
       " '2019',\n",
       " '1992',\n",
       " '2006',\n",
       " '2016',\n",
       " '2015',\n",
       " '2001',\n",
       " '2013',\n",
       " '2019',\n",
       " '2015',\n",
       " '2000',\n",
       " '2021',\n",
       " '2014',\n",
       " '2013',\n",
       " '2012',\n",
       " '1999',\n",
       " '1975',\n",
       " '2010',\n",
       " '2014',\n",
       " '2014',\n",
       " '2012',\n",
       " '2002',\n",
       " '2012',\n",
       " '2017',\n",
       " '2006',\n",
       " '2017',\n",
       " '1982']"
      ]
     },
     "execution_count": 28,
     "metadata": {},
     "output_type": "execute_result"
    }
   ],
   "source": [
    "r_yrs"
   ]
  },
  {
   "cell_type": "code",
   "execution_count": 30,
   "id": "aad6e12e",
   "metadata": {},
   "outputs": [],
   "source": [
    "data = {\"Movie Name\":movie_name,\"Rating\":rating,\"Year of Realase\":r_yrs}"
   ]
  },
  {
   "cell_type": "code",
   "execution_count": 31,
   "id": "694d5fd7",
   "metadata": {},
   "outputs": [
    {
     "data": {
      "text/html": [
       "<div>\n",
       "<style scoped>\n",
       "    .dataframe tbody tr th:only-of-type {\n",
       "        vertical-align: middle;\n",
       "    }\n",
       "\n",
       "    .dataframe tbody tr th {\n",
       "        vertical-align: top;\n",
       "    }\n",
       "\n",
       "    .dataframe thead th {\n",
       "        text-align: right;\n",
       "    }\n",
       "</style>\n",
       "<table border=\"1\" class=\"dataframe\">\n",
       "  <thead>\n",
       "    <tr style=\"text-align: right;\">\n",
       "      <th></th>\n",
       "      <th>Movie Name</th>\n",
       "      <th>Rating</th>\n",
       "      <th>Year of Realase</th>\n",
       "    </tr>\n",
       "  </thead>\n",
       "  <tbody>\n",
       "    <tr>\n",
       "      <th>0</th>\n",
       "      <td>Kantara</td>\n",
       "      <td>8.6</td>\n",
       "      <td>2022</td>\n",
       "    </tr>\n",
       "    <tr>\n",
       "      <th>1</th>\n",
       "      <td>Ramayana: The Legend of Prince Rama</td>\n",
       "      <td>8.5</td>\n",
       "      <td>1993</td>\n",
       "    </tr>\n",
       "    <tr>\n",
       "      <th>2</th>\n",
       "      <td>Rocketry: The Nambi Effect</td>\n",
       "      <td>8.4</td>\n",
       "      <td>2022</td>\n",
       "    </tr>\n",
       "    <tr>\n",
       "      <th>3</th>\n",
       "      <td>Nayakan</td>\n",
       "      <td>8.4</td>\n",
       "      <td>1987</td>\n",
       "    </tr>\n",
       "    <tr>\n",
       "      <th>4</th>\n",
       "      <td>Anbe Sivam</td>\n",
       "      <td>8.4</td>\n",
       "      <td>2003</td>\n",
       "    </tr>\n",
       "    <tr>\n",
       "      <th>...</th>\n",
       "      <td>...</td>\n",
       "      <td>...</td>\n",
       "      <td>...</td>\n",
       "    </tr>\n",
       "    <tr>\n",
       "      <th>95</th>\n",
       "      <td>Ustad Hotel</td>\n",
       "      <td>8.0</td>\n",
       "      <td>2012</td>\n",
       "    </tr>\n",
       "    <tr>\n",
       "      <th>96</th>\n",
       "      <td>Theeran Adhigaaram Ondru</td>\n",
       "      <td>8.0</td>\n",
       "      <td>2017</td>\n",
       "    </tr>\n",
       "    <tr>\n",
       "      <th>97</th>\n",
       "      <td>Rang De Basanti</td>\n",
       "      <td>8.0</td>\n",
       "      <td>2006</td>\n",
       "    </tr>\n",
       "    <tr>\n",
       "      <th>98</th>\n",
       "      <td>Baahubali 2: The Conclusion</td>\n",
       "      <td>8.0</td>\n",
       "      <td>2017</td>\n",
       "    </tr>\n",
       "    <tr>\n",
       "      <th>99</th>\n",
       "      <td>Angoor</td>\n",
       "      <td>8.0</td>\n",
       "      <td>1982</td>\n",
       "    </tr>\n",
       "  </tbody>\n",
       "</table>\n",
       "<p>100 rows × 3 columns</p>\n",
       "</div>"
      ],
      "text/plain": [
       "                             Movie Name Rating Year of Realase\n",
       "0                               Kantara    8.6            2022\n",
       "1   Ramayana: The Legend of Prince Rama    8.5            1993\n",
       "2            Rocketry: The Nambi Effect    8.4            2022\n",
       "3                               Nayakan    8.4            1987\n",
       "4                            Anbe Sivam    8.4            2003\n",
       "..                                  ...    ...             ...\n",
       "95                          Ustad Hotel    8.0            2012\n",
       "96             Theeran Adhigaaram Ondru    8.0            2017\n",
       "97                      Rang De Basanti    8.0            2006\n",
       "98          Baahubali 2: The Conclusion    8.0            2017\n",
       "99                               Angoor    8.0            1982\n",
       "\n",
       "[100 rows x 3 columns]"
      ]
     },
     "execution_count": 31,
     "metadata": {},
     "output_type": "execute_result"
    }
   ],
   "source": [
    "imdb_df = pd.DataFrame(data)\n",
    "imdb_df"
   ]
  },
  {
   "cell_type": "code",
   "execution_count": null,
   "id": "7541a01b",
   "metadata": {},
   "outputs": [],
   "source": []
  }
 ],
 "metadata": {
  "kernelspec": {
   "display_name": "Python 3 (ipykernel)",
   "language": "python",
   "name": "python3"
  },
  "language_info": {
   "codemirror_mode": {
    "name": "ipython",
    "version": 3
   },
   "file_extension": ".py",
   "mimetype": "text/x-python",
   "name": "python",
   "nbconvert_exporter": "python",
   "pygments_lexer": "ipython3",
   "version": "3.9.12"
  }
 },
 "nbformat": 4,
 "nbformat_minor": 5
}
